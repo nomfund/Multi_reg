{
 "cells": [
  {
   "cell_type": "markdown",
   "metadata": {},
   "source": [
    "# Multiple linear Regression\n",
    "\n",
    "The general purpose of multiple regression is to learn more about the relationship between several independent or predictor variables and a dependent or criterion variable. \n",
    " \n",
    " The Formula for Multiple Linear Regression Is\n",
    "\n",
    "\\begin{aligned} &y_i = \\beta_0 + \\beta _1 x_{i1} + \\beta _2 x_{i2} + ... + \\beta _p x_{ip} + \\epsilon\\\\ &\\textbf{where, for } i = n \\textbf{ observations:}\\\\ &y_i=\\text{dependent variable}\\\\ &x_i=\\text{expanatory variables}\\\\ &\\beta_0=\\text{y-intercept (constant term)}\\\\ &\\beta_p=\\text{slope coefficients for each explanatory variable}\\\\ &\\epsilon=\\text{the model's error term (also known as the residuals)}\\\\ \\end{aligned}  \n",
    "\n",
    "\n"
   ]
  },
  {
   "cell_type": "code",
   "execution_count": 26,
   "metadata": {},
   "outputs": [],
   "source": [
    "import pandas as pd\n",
    "import numpy as np\n",
    "import matplotlib.pyplot as plt\n",
    "import seaborn as sns\n",
    "%matplotlib inline\n",
    "import statsmodels.api as sm\n",
    "from scipy import stats\n",
    "from sklearn import datasets, linear_model\n",
    "from sklearn.model_selection import train_test_split #split to training and test sets\n",
    "from matplotlib import pyplot as plt\n",
    "import statsmodels.formula.api as smf\n",
    "from sklearn.linear_model import LinearRegression\n",
    "import statsmodels.formula.api as smf\n",
    "from sklearn import metrics\n"
   ]
  },
  {
   "cell_type": "code",
   "execution_count": 27,
   "metadata": {},
   "outputs": [],
   "source": [
    "salary_data =  pd.read_csv(\"salary.csv\").dropna()"
   ]
  },
  {
   "cell_type": "code",
   "execution_count": 28,
   "metadata": {},
   "outputs": [
    {
     "data": {
      "text/html": [
       "<div>\n",
       "<style scoped>\n",
       "    .dataframe tbody tr th:only-of-type {\n",
       "        vertical-align: middle;\n",
       "    }\n",
       "\n",
       "    .dataframe tbody tr th {\n",
       "        vertical-align: top;\n",
       "    }\n",
       "\n",
       "    .dataframe thead th {\n",
       "        text-align: right;\n",
       "    }\n",
       "</style>\n",
       "<table border=\"1\" class=\"dataframe\">\n",
       "  <thead>\n",
       "    <tr style=\"text-align: right;\">\n",
       "      <th></th>\n",
       "      <th>salary</th>\n",
       "      <th>exprior</th>\n",
       "      <th>yearsworked</th>\n",
       "      <th>yearsrank</th>\n",
       "      <th>market</th>\n",
       "      <th>degree</th>\n",
       "      <th>otherqual</th>\n",
       "      <th>position</th>\n",
       "      <th>male</th>\n",
       "      <th>Field</th>\n",
       "      <th>yearsabs</th>\n",
       "    </tr>\n",
       "  </thead>\n",
       "  <tbody>\n",
       "    <tr>\n",
       "      <th>0</th>\n",
       "      <td>53000.0</td>\n",
       "      <td>0</td>\n",
       "      <td>0</td>\n",
       "      <td>0</td>\n",
       "      <td>1.17</td>\n",
       "      <td>1</td>\n",
       "      <td>0</td>\n",
       "      <td>1</td>\n",
       "      <td>1</td>\n",
       "      <td>3</td>\n",
       "      <td>0</td>\n",
       "    </tr>\n",
       "    <tr>\n",
       "      <th>1</th>\n",
       "      <td>58000.0</td>\n",
       "      <td>1</td>\n",
       "      <td>0</td>\n",
       "      <td>0</td>\n",
       "      <td>1.24</td>\n",
       "      <td>1</td>\n",
       "      <td>0</td>\n",
       "      <td>1</td>\n",
       "      <td>1</td>\n",
       "      <td>2</td>\n",
       "      <td>0</td>\n",
       "    </tr>\n",
       "    <tr>\n",
       "      <th>2</th>\n",
       "      <td>45500.0</td>\n",
       "      <td>0</td>\n",
       "      <td>0</td>\n",
       "      <td>0</td>\n",
       "      <td>1.21</td>\n",
       "      <td>1</td>\n",
       "      <td>0</td>\n",
       "      <td>1</td>\n",
       "      <td>1</td>\n",
       "      <td>3</td>\n",
       "      <td>2</td>\n",
       "    </tr>\n",
       "    <tr>\n",
       "      <th>3</th>\n",
       "      <td>35782.0</td>\n",
       "      <td>0</td>\n",
       "      <td>2</td>\n",
       "      <td>1</td>\n",
       "      <td>0.99</td>\n",
       "      <td>1</td>\n",
       "      <td>0</td>\n",
       "      <td>1</td>\n",
       "      <td>1</td>\n",
       "      <td>4</td>\n",
       "      <td>1</td>\n",
       "    </tr>\n",
       "    <tr>\n",
       "      <th>4</th>\n",
       "      <td>34731.0</td>\n",
       "      <td>0</td>\n",
       "      <td>2</td>\n",
       "      <td>2</td>\n",
       "      <td>0.91</td>\n",
       "      <td>1</td>\n",
       "      <td>0</td>\n",
       "      <td>1</td>\n",
       "      <td>1</td>\n",
       "      <td>4</td>\n",
       "      <td>1</td>\n",
       "    </tr>\n",
       "  </tbody>\n",
       "</table>\n",
       "</div>"
      ],
      "text/plain": [
       "    salary  exprior  yearsworked  yearsrank  market  degree  otherqual  \\\n",
       "0  53000.0        0            0          0    1.17       1          0   \n",
       "1  58000.0        1            0          0    1.24       1          0   \n",
       "2  45500.0        0            0          0    1.21       1          0   \n",
       "3  35782.0        0            2          1    0.99       1          0   \n",
       "4  34731.0        0            2          2    0.91       1          0   \n",
       "\n",
       "   position  male  Field  yearsabs  \n",
       "0         1     1      3         0  \n",
       "1         1     1      2         0  \n",
       "2         1     1      3         2  \n",
       "3         1     1      4         1  \n",
       "4         1     1      4         1  "
      ]
     },
     "execution_count": 28,
     "metadata": {},
     "output_type": "execute_result"
    }
   ],
   "source": [
    "salary_data.head()"
   ]
  },
  {
   "cell_type": "code",
   "execution_count": 29,
   "metadata": {},
   "outputs": [
    {
     "data": {
      "text/plain": [
       "Intercept       4061.006038\n",
       "exprior          165.129681\n",
       "yearsworked     -115.202071\n",
       "yearsrank        787.061611\n",
       "market         31589.626426\n",
       "degree           213.856152\n",
       "otherqual       2509.894578\n",
       "position        7856.035165\n",
       "male             507.047369\n",
       "Field          -1978.648362\n",
       "yearsabs         -21.847066\n",
       "dtype: float64"
      ]
     },
     "execution_count": 29,
     "metadata": {},
     "output_type": "execute_result"
    }
   ],
   "source": [
    "#creating a fitted model with all variables\n",
    "lm1 = smf.ols(formula='salary ~ exprior + yearsworked + yearsrank + market + degree + otherqual + position + male + Field + yearsabs', data = salary_data).fit()\n",
    "lm1.params"
   ]
  },
  {
   "cell_type": "code",
   "execution_count": 30,
   "metadata": {},
   "outputs": [
    {
     "name": "stdout",
     "output_type": "stream",
     "text": [
      "4061.006037773426\n",
      "[ 1.65129681e+02 -1.15202071e+02  7.87061611e+02  3.15896264e+04\n",
      "  2.13856152e+02  2.50989458e+03  7.85603517e+03  5.07047369e+02\n",
      " -1.97864836e+03 -2.18470660e+01]\n"
     ]
    }
   ],
   "source": [
    "#Creating X and y\n",
    "variables_cols = ['exprior', 'yearsworked', 'yearsrank', 'market', 'degree', 'otherqual', 'position', 'male', 'Field', 'yearsabs']\n",
    "X = salary_data[feature_cols]\n",
    "y = salary_data.salary\n",
    "\n",
    "#instantiate and fit\n",
    "lm2 = LinearRegression()\n",
    "lm2.fit(X,y)\n",
    "\n",
    "#print the coefficients\n",
    "print(lm2.intercept_)\n",
    "print(lm2.coef_)"
   ]
  },
  {
   "cell_type": "markdown",
   "metadata": {},
   "source": [
    "# Now we pair the feature names with their coefficients"
   ]
  },
  {
   "cell_type": "code",
   "execution_count": 31,
   "metadata": {},
   "outputs": [
    {
     "data": {
      "text/plain": [
       "[('exprior', 165.1296807453842),\n",
       " ('yearsworked', -115.202070997086),\n",
       " ('yearsrank', 787.0616105545433),\n",
       " ('market', 31589.626426497594),\n",
       " ('degree', 213.85615192053274),\n",
       " ('otherqual', 2509.8945779951305),\n",
       " ('position', 7856.035165247932),\n",
       " ('male', 507.0473690947591),\n",
       " ('Field', -1978.6483620806985),\n",
       " ('yearsabs', -21.847066019981156)]"
      ]
     },
     "execution_count": 31,
     "metadata": {},
     "output_type": "execute_result"
    }
   ],
   "source": [
    "list(zip(variables_cols, lm2.coef_))"
   ]
  },
  {
   "cell_type": "markdown",
   "metadata": {},
   "source": [
    "# Interpreting coefficients"
   ]
  },
  {
   "cell_type": "markdown",
   "metadata": {},
   "source": []
  },
  {
   "cell_type": "markdown",
   "metadata": {},
   "source": [
    "# Statsmodels summary"
   ]
  },
  {
   "cell_type": "code",
   "execution_count": 32,
   "metadata": {},
   "outputs": [
    {
     "data": {
      "text/html": [
       "<table class=\"simpletable\">\n",
       "<caption>OLS Regression Results</caption>\n",
       "<tr>\n",
       "  <th>Dep. Variable:</th>         <td>salary</td>      <th>  R-squared:         </th> <td>   0.808</td> \n",
       "</tr>\n",
       "<tr>\n",
       "  <th>Model:</th>                   <td>OLS</td>       <th>  Adj. R-squared:    </th> <td>   0.805</td> \n",
       "</tr>\n",
       "<tr>\n",
       "  <th>Method:</th>             <td>Least Squares</td>  <th>  F-statistic:       </th> <td>   211.9</td> \n",
       "</tr>\n",
       "<tr>\n",
       "  <th>Date:</th>             <td>Tue, 21 May 2019</td> <th>  Prob (F-statistic):</th> <td>5.29e-173</td>\n",
       "</tr>\n",
       "<tr>\n",
       "  <th>Time:</th>                 <td>14:14:44</td>     <th>  Log-Likelihood:    </th> <td> -5150.4</td> \n",
       "</tr>\n",
       "<tr>\n",
       "  <th>No. Observations:</th>      <td>   513</td>      <th>  AIC:               </th> <td>1.032e+04</td>\n",
       "</tr>\n",
       "<tr>\n",
       "  <th>Df Residuals:</th>          <td>   502</td>      <th>  BIC:               </th> <td>1.037e+04</td>\n",
       "</tr>\n",
       "<tr>\n",
       "  <th>Df Model:</th>              <td>    10</td>      <th>                     </th>     <td> </td>    \n",
       "</tr>\n",
       "<tr>\n",
       "  <th>Covariance Type:</th>      <td>nonrobust</td>    <th>                     </th>     <td> </td>    \n",
       "</tr>\n",
       "</table>\n",
       "<table class=\"simpletable\">\n",
       "<tr>\n",
       "       <td></td>          <th>coef</th>     <th>std err</th>      <th>t</th>      <th>P>|t|</th>  <th>[0.025</th>    <th>0.975]</th>  \n",
       "</tr>\n",
       "<tr>\n",
       "  <th>Intercept</th>   <td> 4061.0060</td> <td> 2529.482</td> <td>    1.605</td> <td> 0.109</td> <td> -908.670</td> <td> 9030.682</td>\n",
       "</tr>\n",
       "<tr>\n",
       "  <th>exprior</th>     <td>  165.1297</td> <td>   72.632</td> <td>    2.274</td> <td> 0.023</td> <td>   22.430</td> <td>  307.829</td>\n",
       "</tr>\n",
       "<tr>\n",
       "  <th>yearsworked</th> <td> -115.2021</td> <td>   85.699</td> <td>   -1.344</td> <td> 0.179</td> <td> -283.575</td> <td>   53.171</td>\n",
       "</tr>\n",
       "<tr>\n",
       "  <th>yearsrank</th>   <td>  787.0616</td> <td>   80.957</td> <td>    9.722</td> <td> 0.000</td> <td>  628.006</td> <td>  946.118</td>\n",
       "</tr>\n",
       "<tr>\n",
       "  <th>market</th>      <td> 3.159e+04</td> <td> 1774.218</td> <td>   17.805</td> <td> 0.000</td> <td> 2.81e+04</td> <td> 3.51e+04</td>\n",
       "</tr>\n",
       "<tr>\n",
       "  <th>degree</th>      <td>  213.8562</td> <td> 1402.297</td> <td>    0.153</td> <td> 0.879</td> <td>-2541.238</td> <td> 2968.951</td>\n",
       "</tr>\n",
       "<tr>\n",
       "  <th>otherqual</th>   <td> 2509.8946</td> <td> 1312.336</td> <td>    1.913</td> <td> 0.056</td> <td>  -68.453</td> <td> 5088.242</td>\n",
       "</tr>\n",
       "<tr>\n",
       "  <th>position</th>    <td> 7856.0352</td> <td>  626.464</td> <td>   12.540</td> <td> 0.000</td> <td> 6625.221</td> <td> 9086.849</td>\n",
       "</tr>\n",
       "<tr>\n",
       "  <th>male</th>        <td>  507.0474</td> <td>  856.991</td> <td>    0.592</td> <td> 0.554</td> <td>-1176.684</td> <td> 2190.779</td>\n",
       "</tr>\n",
       "<tr>\n",
       "  <th>Field</th>       <td>-1978.6484</td> <td>  241.460</td> <td>   -8.195</td> <td> 0.000</td> <td>-2453.046</td> <td>-1504.251</td>\n",
       "</tr>\n",
       "<tr>\n",
       "  <th>yearsabs</th>    <td>  -21.8471</td> <td>   21.009</td> <td>   -1.040</td> <td> 0.299</td> <td>  -63.123</td> <td>   19.429</td>\n",
       "</tr>\n",
       "</table>\n",
       "<table class=\"simpletable\">\n",
       "<tr>\n",
       "  <th>Omnibus:</th>       <td>35.749</td> <th>  Durbin-Watson:     </th> <td>   1.834</td>\n",
       "</tr>\n",
       "<tr>\n",
       "  <th>Prob(Omnibus):</th> <td> 0.000</td> <th>  Jarque-Bera (JB):  </th> <td>  49.302</td>\n",
       "</tr>\n",
       "<tr>\n",
       "  <th>Skew:</th>          <td> 0.549</td> <th>  Prob(JB):          </th> <td>1.97e-11</td>\n",
       "</tr>\n",
       "<tr>\n",
       "  <th>Kurtosis:</th>      <td> 4.050</td> <th>  Cond. No.          </th> <td>    256.</td>\n",
       "</tr>\n",
       "</table><br/><br/>Warnings:<br/>[1] Standard Errors assume that the covariance matrix of the errors is correctly specified."
      ],
      "text/plain": [
       "<class 'statsmodels.iolib.summary.Summary'>\n",
       "\"\"\"\n",
       "                            OLS Regression Results                            \n",
       "==============================================================================\n",
       "Dep. Variable:                 salary   R-squared:                       0.808\n",
       "Model:                            OLS   Adj. R-squared:                  0.805\n",
       "Method:                 Least Squares   F-statistic:                     211.9\n",
       "Date:                Tue, 21 May 2019   Prob (F-statistic):          5.29e-173\n",
       "Time:                        14:14:44   Log-Likelihood:                -5150.4\n",
       "No. Observations:                 513   AIC:                         1.032e+04\n",
       "Df Residuals:                     502   BIC:                         1.037e+04\n",
       "Df Model:                          10                                         \n",
       "Covariance Type:            nonrobust                                         \n",
       "===============================================================================\n",
       "                  coef    std err          t      P>|t|      [0.025      0.975]\n",
       "-------------------------------------------------------------------------------\n",
       "Intercept    4061.0060   2529.482      1.605      0.109    -908.670    9030.682\n",
       "exprior       165.1297     72.632      2.274      0.023      22.430     307.829\n",
       "yearsworked  -115.2021     85.699     -1.344      0.179    -283.575      53.171\n",
       "yearsrank     787.0616     80.957      9.722      0.000     628.006     946.118\n",
       "market       3.159e+04   1774.218     17.805      0.000    2.81e+04    3.51e+04\n",
       "degree        213.8562   1402.297      0.153      0.879   -2541.238    2968.951\n",
       "otherqual    2509.8946   1312.336      1.913      0.056     -68.453    5088.242\n",
       "position     7856.0352    626.464     12.540      0.000    6625.221    9086.849\n",
       "male          507.0474    856.991      0.592      0.554   -1176.684    2190.779\n",
       "Field       -1978.6484    241.460     -8.195      0.000   -2453.046   -1504.251\n",
       "yearsabs      -21.8471     21.009     -1.040      0.299     -63.123      19.429\n",
       "==============================================================================\n",
       "Omnibus:                       35.749   Durbin-Watson:                   1.834\n",
       "Prob(Omnibus):                  0.000   Jarque-Bera (JB):               49.302\n",
       "Skew:                           0.549   Prob(JB):                     1.97e-11\n",
       "Kurtosis:                       4.050   Cond. No.                         256.\n",
       "==============================================================================\n",
       "\n",
       "Warnings:\n",
       "[1] Standard Errors assume that the covariance matrix of the errors is correctly specified.\n",
       "\"\"\""
      ]
     },
     "execution_count": 32,
     "metadata": {},
     "output_type": "execute_result"
    }
   ],
   "source": [
    "lm1.summary()"
   ]
  },
  {
   "cell_type": "code",
   "execution_count": null,
   "metadata": {},
   "outputs": [],
   "source": []
  }
 ],
 "metadata": {
  "kernelspec": {
   "display_name": "Python 3",
   "language": "python",
   "name": "python3"
  },
  "language_info": {
   "codemirror_mode": {
    "name": "ipython",
    "version": 3
   },
   "file_extension": ".py",
   "mimetype": "text/x-python",
   "name": "python",
   "nbconvert_exporter": "python",
   "pygments_lexer": "ipython3",
   "version": "3.6.5"
  }
 },
 "nbformat": 4,
 "nbformat_minor": 2
}
